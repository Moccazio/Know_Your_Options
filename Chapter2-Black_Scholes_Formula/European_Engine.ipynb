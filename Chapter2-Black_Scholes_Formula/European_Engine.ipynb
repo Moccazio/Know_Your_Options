{
 "cells": [
  {
   "cell_type": "markdown",
   "metadata": {},
   "source": [
    "# European Engine"
   ]
  },
  {
   "cell_type": "code",
   "execution_count": 55,
   "metadata": {},
   "outputs": [],
   "source": [
    "from QuantLib import *\n",
    "import datetime\n",
    "import re\n",
    "import utils \n",
    "import pandas as pd\n",
    "import yfinance as yf\n",
    "import numpy as np\n",
    "import matplotlib.pyplot as plt\n",
    "from yahoo_fin.stock_info import get_quote_table\n",
    "import warnings\n",
    "warnings.simplefilter(action='ignore', category=FutureWarning)\n",
    "import sys\n",
    "sys.path.insert(0, '../scripts/')\n",
    "import utils as ut\n",
    "from database import Stock \n",
    "import pandas as pd\n",
    "pd.options.display.float_format = '{:,.4f}'.format\n",
    "import warnings\n",
    "warnings.simplefilter(action='ignore', category=FutureWarning)\n",
    "import numpy as np\n",
    "from pandas.tseries.offsets import BDay\n",
    "end = pd.datetime.today().date()\n",
    "start = end - 252 * BDay() * 5 # five year historical data"
   ]
  },
  {
   "cell_type": "code",
   "execution_count": 56,
   "metadata": {},
   "outputs": [
    {
     "data": {
      "text/plain": [
       "0.30467116819018114"
      ]
     },
     "execution_count": 56,
     "metadata": {},
     "output_type": "execute_result"
    }
   ],
   "source": [
    "np.std(np.log(Stock(\"AAPL\", start, end).df.Close.pct_change() + 1)) * 252 ** 0.5"
   ]
  },
  {
   "cell_type": "markdown",
   "metadata": {},
   "source": [
    "Building the option requires only the specification of its contract, so its payoff (it's a call option with strike at 100) and its exercise, three months from today's date. Market data will be selected and passed later, depending on the calculation methods."
   ]
  },
  {
   "cell_type": "code",
   "execution_count": 57,
   "metadata": {},
   "outputs": [],
   "source": [
    "def european_engine(ticker, option=\"Call\"):\n",
    "                \n",
    "    info = get_quote_table(ticker)\n",
    "    current_price = info[\"Quote Price\"]\n",
    "    yield_re = re.compile(r\"\\((?P<value>(\\d+\\.\\d+))%\\)\")\n",
    "    try:\n",
    "        dividend_rate = float(yield_re.search(info[\"Forward Dividend & Yield\"])[\"value\"])\n",
    "    except (KeyError, ValueError, TypeError):\n",
    "        dividend_rate = 0.0      \n",
    "    \n",
    "    today = Date.todaysDate()\n",
    "    Settings.instance().evaluationDate = today\n",
    "    \n",
    "    stk_sigma = np.std(np.log(Stock(\"AAPL\", start, end).df.Close.pct_change() + 1)) * 252 ** 0.5\n",
    "\n",
    "    def create_call(row):\n",
    "        u = SimpleQuote(current_price)\n",
    "        r = SimpleQuote(0.001)\n",
    "        sigma = SimpleQuote(stk_sigma)\n",
    "        option = EuropeanOption(PlainVanillaPayoff(Option.Call, row[\"strike\"]), EuropeanExercise(Date(expiration.day, expiration.month, expiration.year)))\n",
    "        riskFreeCurve = FlatForward(0, TARGET(), QuoteHandle(r), Actual360())\n",
    "        volatility = BlackConstantVol(0, TARGET(), QuoteHandle(sigma), Actual360())\n",
    "        process = BlackScholesProcess(QuoteHandle(u),YieldTermStructureHandle(riskFreeCurve),BlackVolTermStructureHandle(volatility))\n",
    "        process.dividendYield().zeroRate(dividend_rate, Continuous)\n",
    "        \n",
    "        engine = AnalyticEuropeanEngine(process)\n",
    "        option.setPricingEngine(engine)\n",
    "        \n",
    "        npv = option.NPV()\n",
    "        delta = option.delta()\n",
    "        gamma = option.gamma()\n",
    "        theta = option.theta()\n",
    "        vega = option.vega()\n",
    "        rho = option.rho()\n",
    "        \n",
    "        return {\"Underlying\": current_price,\n",
    "                \"Ticker\": ticker,\n",
    "                \"Type\": row[\"type\"],\n",
    "                \"Expiration\": row['expirationDate'],\n",
    "                \"YTE\": row[\"yte\"],\n",
    "                \"DTE\": row[\"dte\"],\n",
    "                \"Strike\": row[\"strike\"],\n",
    "                \"Last\": row[\"lastPrice\"],\n",
    "                \"Bid\": row[\"bid\"],\n",
    "                \"Ask\": row[\"ask\"],\n",
    "                \"Midpoint\": (row['bid'] + row['ask']) / 2,\n",
    "                \"Spread\": row['ask'] - row['bid'],\n",
    "                \"IV\": row[\"impliedVolatility\"],  \n",
    "                \"NPV\": npv,\n",
    "                \"Delta\": delta,\n",
    "                \"Gamma\": gamma,\n",
    "                \"Theta\":  theta / 365,\n",
    "                \"Vega\": vega,\n",
    "                \"Rho\": rho,\n",
    "                \"AKA\": row[\"contractSymbol\"], \n",
    "                \"Intrinsic_Value\":  current_price - row[\"strike\"],\n",
    "                \"Time_Value\": row[\"lastPrice\"] - (current_price- row[\"strike\"])}\n",
    "        \n",
    "    def create_put(row):\n",
    "        u = SimpleQuote(current_price)\n",
    "        r = SimpleQuote(0.001)\n",
    "        sigma = SimpleQuote(stk_sigma)\n",
    "        option = EuropeanOption(PlainVanillaPayoff(Option.Put, row[\"strike\"]), EuropeanExercise(Date(expiration.day, expiration.month, expiration.year)))\n",
    "        riskFreeCurve = FlatForward(0, TARGET(), QuoteHandle(r), Actual360())\n",
    "        volatility = BlackConstantVol(0, TARGET(), QuoteHandle(sigma), Actual360())\n",
    "        process = BlackScholesProcess(QuoteHandle(u),YieldTermStructureHandle(riskFreeCurve),BlackVolTermStructureHandle(volatility))\n",
    "        process.dividendYield().zeroRate(dividend_rate, Continuous)\n",
    "        engine = AnalyticEuropeanEngine(process)\n",
    "        option.setPricingEngine(engine)\n",
    "        npv = option.NPV()\n",
    "        delta = option.delta()\n",
    "        gamma = option.gamma()\n",
    "        theta = option.theta()\n",
    "        vega = option.vega()\n",
    "        rho = option.rho()\n",
    "        \n",
    "        return {\"Underlying\": current_price,\n",
    "                \"Ticker\": ticker,\n",
    "                \"Type\": row[\"type\"],\n",
    "                \"Expiration\": row['expirationDate'],\n",
    "                \"YTE\": row[\"yte\"],\n",
    "                \"DTE\": row[\"dte\"],\n",
    "                \"Strike\": row[\"strike\"],\n",
    "                \"Last\": row[\"lastPrice\"],\n",
    "                \"Bid\": row[\"bid\"],\n",
    "                \"Ask\": row[\"ask\"],\n",
    "                \"Midpoint\": (row['bid'] + row['ask']) / 2,\n",
    "                \"Spread\": row['ask'] - row['bid'],\n",
    "                \"IV\": row[\"impliedVolatility\"],  \n",
    "                \"NPV\": npv,\n",
    "                \"Delta\": delta,\n",
    "                \"Gamma\": gamma,\n",
    "                \"Theta\":  theta / 365,\n",
    "                \"Vega\": vega,\n",
    "                \"Rho\": rho,\n",
    "                \"AKA\": row[\"contractSymbol\"], \n",
    "                \"Intrinsic_Value\":  row[\"strike\"] - current_price, \n",
    "                \"Time_Value\": row[\"lastPrice\"] - (row[\"strike\"] - current_price)}          \n",
    "        \n",
    "    options_= pd.DataFrame()       \n",
    "    \n",
    "    if option == \"Call\":\n",
    "        \n",
    "        tk = yf.Ticker(ticker)\n",
    "        exps = tk.options\n",
    "        \n",
    "        for e in exps:\n",
    "            opt = tk.option_chain(e)\n",
    "            calls = pd.DataFrame().append(opt.calls)\n",
    "            calls['expirationDate'] = e\n",
    "            expiration =  pd.to_datetime(e) + datetime.timedelta(days = 1)\n",
    "            calls['expirationDate'] = expiration\n",
    "            calls['yte'] = (calls['expirationDate'] - datetime.datetime.today()).dt.days / 365\n",
    "            calls['dte'] = (calls['expirationDate'] - datetime.datetime.today()).dt.days\n",
    "            calls[['bid', 'ask', 'strike']] = calls[['bid', 'ask', 'strike']].apply(pd.to_numeric)\n",
    "            calls['type'] = \"Call\"\n",
    "            calls = calls.drop(columns = ['contractSize', 'currency', 'change', 'percentChange', 'lastTradeDate'])\n",
    "            options = calls.apply(create_call, axis=1, result_type=\"expand\")\n",
    "            options_ = options_.append(options, ignore_index=True) \n",
    "    else:    \n",
    "        \n",
    "        tk = yf.Ticker(ticker)\n",
    "        exps = tk.options\n",
    "        \n",
    "        for e in exps:\n",
    "            opt = tk.option_chain(e)\n",
    "            puts = pd.DataFrame().append(opt.puts)\n",
    "            puts['expirationDate'] = e\n",
    "            expiration =  pd.to_datetime(e) + datetime.timedelta(days = 1)\n",
    "            puts['expirationDate'] = expiration\n",
    "            puts['yte'] = (puts['expirationDate'] - datetime.datetime.today()).dt.days / 365\n",
    "            puts['dte'] = (puts['expirationDate'] - datetime.datetime.today()).dt.days\n",
    "            puts[['bid', 'ask', 'strike']] = puts[['bid', 'ask', 'strike']].apply(pd.to_numeric)\n",
    "            puts['type'] = \"Put\"\n",
    "            puts = puts.drop(columns = ['contractSize', 'currency', 'change', 'percentChange', 'lastTradeDate'])\n",
    "            options = puts.apply(create_put, axis=1, result_type=\"expand\")\n",
    "            options_ = options_.append(options, ignore_index=True) \n",
    "    return  options_"
   ]
  },
  {
   "cell_type": "code",
   "execution_count": 58,
   "metadata": {},
   "outputs": [],
   "source": [
    "call = european_engine(\"AAPL\", option=\"Call\")"
   ]
  },
  {
   "cell_type": "code",
   "execution_count": 59,
   "metadata": {},
   "outputs": [
    {
     "data": {
      "text/plain": [
       "0      62.7500\n",
       "1      57.5000\n",
       "2      52.4500\n",
       "3      48.4000\n",
       "4      39.5400\n",
       "         ...  \n",
       "1148   11.5900\n",
       "1149   10.6000\n",
       "1150    9.6000\n",
       "1151    8.7500\n",
       "1152    8.0000\n",
       "Name: Last, Length: 1153, dtype: float64"
      ]
     },
     "execution_count": 59,
     "metadata": {},
     "output_type": "execute_result"
    }
   ],
   "source": [
    "call.Last"
   ]
  },
  {
   "cell_type": "code",
   "execution_count": 60,
   "metadata": {},
   "outputs": [
    {
     "data": {
      "text/plain": [
       "0      63.0007\n",
       "1      58.0007\n",
       "2      53.0008\n",
       "3      48.0008\n",
       "4      43.0009\n",
       "         ...  \n",
       "1148   11.0676\n",
       "1149   10.0600\n",
       "1150    9.1435\n",
       "1151    8.3102\n",
       "1152    7.5530\n",
       "Name: NPV, Length: 1153, dtype: float64"
      ]
     },
     "execution_count": 60,
     "metadata": {},
     "output_type": "execute_result"
    }
   ],
   "source": [
    "call.NPV"
   ]
  },
  {
   "cell_type": "code",
   "execution_count": 61,
   "metadata": {},
   "outputs": [],
   "source": [
    "put = european_engine(\"AAPL\", option=\"Put\")"
   ]
  },
  {
   "cell_type": "code",
   "execution_count": 63,
   "metadata": {},
   "outputs": [
    {
     "data": {
      "text/plain": [
       "0       0.0100\n",
       "1       0.0100\n",
       "2       0.0100\n",
       "3       0.0100\n",
       "4       0.0100\n",
       "         ...  \n",
       "1103   23.4000\n",
       "1104   25.5700\n",
       "1105   29.4800\n",
       "1106   39.6500\n",
       "1107   63.9300\n",
       "Name: Last, Length: 1108, dtype: float64"
      ]
     },
     "execution_count": 63,
     "metadata": {},
     "output_type": "execute_result"
    }
   ],
   "source": [
    "put.Last"
   ]
  },
  {
   "cell_type": "code",
   "execution_count": 64,
   "metadata": {},
   "outputs": [
    {
     "data": {
      "text/plain": [
       "0      -0.0000\n",
       "1      -0.0000\n",
       "2      -0.0000\n",
       "3      -0.0000\n",
       "4      -0.0000\n",
       "         ...  \n",
       "1103   23.1495\n",
       "1104   26.2345\n",
       "1105   29.4783\n",
       "1106   40.0556\n",
       "1107   64.1524\n",
       "Name: NPV, Length: 1108, dtype: float64"
      ]
     },
     "execution_count": 64,
     "metadata": {},
     "output_type": "execute_result"
    }
   ],
   "source": [
    "put.NPV"
   ]
  },
  {
   "cell_type": "code",
   "execution_count": null,
   "metadata": {},
   "outputs": [],
   "source": []
  }
 ],
 "metadata": {
  "kernelspec": {
   "display_name": "Python 3",
   "language": "python",
   "name": "python3"
  },
  "language_info": {
   "codemirror_mode": {
    "name": "ipython",
    "version": 3
   },
   "file_extension": ".py",
   "mimetype": "text/x-python",
   "name": "python",
   "nbconvert_exporter": "python",
   "pygments_lexer": "ipython3",
   "version": "3.6.12"
  },
  "toc-autonumbering": true
 },
 "nbformat": 4,
 "nbformat_minor": 4
}
