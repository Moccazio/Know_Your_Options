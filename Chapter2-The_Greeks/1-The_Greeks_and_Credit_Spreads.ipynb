{
 "cells": [
  {
   "cell_type": "markdown",
   "metadata": {},
   "source": [
    "# The Greeks and Credit Spreads"
   ]
  },
  {
   "cell_type": "markdown",
   "metadata": {},
   "source": [
    "The greeks are the partial-derivatives of the Black-Scholes equation with respect to each variable. So we are going to start with some theory and then we will code the greeks together with the credit spreads."
   ]
  },
  {
   "cell_type": "markdown",
   "metadata": {},
   "source": [
    "### Black–Scholes formula\n",
    "\n",
    "\n",
    "\n",
    "For pricing a Put-Option:\n",
    "\n",
    " $$\\textbf{P} = Ke^{−r(T−t)}N(−d_2)−SN(−d_1)$$\n",
    " \n",
    "For pricing a Call-Option:\n",
    "\n",
    "$$\\textbf{C} = SN(d_1) - Ke^{-rt}N(d_2)$$\n",
    "\n",
    "\n",
    "##### with the assumptions:\n",
    "\n",
    "\n",
    "1. European options can only be exercised at expiration\n",
    "\n",
    "\n",
    "2. No dividends are paid during the option's life\n",
    "\n",
    "\n",
    "3. Market movements cannot be predicted\n",
    "\n",
    "\n",
    "4. The risk-free rate and volatility are constant\n",
    "\n",
    "\n",
    "5. Follows a lognormal distribution\n",
    "\n",
    "\n",
    "##### with \n",
    "\n",
    "$S$ the spot price of the asset at time t\n",
    "\n",
    "\n",
    "$T$ the maturity of the option. Time to maturity is defined as T−t\n",
    "\n",
    "\n",
    "$K$ strike price of the option\n",
    "\n",
    "\n",
    "$r$ the risk-free interest rate, assumed to be constant between t and T\n",
    "\n",
    "\n",
    "$\\sigma$, volatility of underlying asset, the standard deviation of the asset returns"
   ]
  },
  {
   "cell_type": "markdown",
   "metadata": {},
   "source": [
    "## 1. The Greeks\n",
    "\n",
    "The greeks are the partial-derivatives of the Black-Scholes equation with respect to each variable.\n",
    "\n",
    "$\\Delta$ — Delta is the first partial-derivative with respect to the underlying asset.\n",
    " \n",
    "$\\Gamma$ — Gamma is the 2nd partial-derivative with respect to the underlying asset.\n",
    "    \n",
    "$V$ — Vega is the partial-derivative with respect to volatility. \n",
    "\n",
    "$\\Theta$ — Theta is the partial-derivative with respect to time until expiration and losing value per day.\n",
    "\n",
    "$\\rho$ — Rho is the partial derivative with respect to the given interest rate."
   ]
  },
  {
   "cell_type": "markdown",
   "metadata": {},
   "source": [
    "### 2. Credit Spread Ratios"
   ]
  },
  {
   "cell_type": "markdown",
   "metadata": {},
   "source": [
    "$$Risk Ratio = \\frac{Net \\Theta} {\\sqrt{Net \\Delta^2 + Net \\Gamma^2}}$$"
   ]
  },
  {
   "cell_type": "markdown",
   "metadata": {},
   "source": [
    "$$Cost Ratio = \\frac{Net Credit}{Share Cost + Margin Required}$$"
   ]
  },
  {
   "cell_type": "code",
   "execution_count": null,
   "metadata": {},
   "outputs": [],
   "source": [
    "import datetime\n",
    "import re\n",
    "import pandas as pd\n",
    "import QuantLib as ql\n",
    "from pandas_datareader.data import Options\n",
    "import pandas as pd\n",
    "pd.options.display.float_format = '{:,.4f}'.format\n",
    "import numpy as np\n",
    "import yfinance as yf\n",
    "from yahoo_fin.stock_info import get_quote_table "
   ]
  },
  {
   "cell_type": "code",
   "execution_count": null,
   "metadata": {},
   "outputs": [],
   "source": [
    "ticker = \"AAPL\"\n",
    "expiration = datetime.date(2021, 2, 19)\n",
    "info = get_quote_table(ticker)\n",
    "current_price = info[\"Quote Price\"]\n",
    "yield_re = re.compile(r\"\\((?P<value>(\\d+\\.\\d+))%\\)\")\n",
    "try:\n",
    "    dividend_yield = float(\n",
    "        yield_re.search(info[\"Forward Dividend & Yield\"])[\"value\"]\n",
    "    )\n",
    "except (KeyError, ValueError, TypeError):\n",
    "    dividend_yield = 0.0# Fetch call option chain prices\n",
    "chain=opt_sym.option_chain(opt_sym.options[1])    \n",
    "calls=chain.calls\n",
    "#calls = get_calls(ticker)# Setup instruments for Black-Scholes pricing\n",
    "today = ql.Date.todaysDate()\n",
    "underlying = ql.SimpleQuote(current_price)\n",
    "exercise = ql.AmericanExercise(\n",
    "    today,\n",
    "    ql.Date(expiration.day, expiration.month, expiration.year)\n",
    ")\n",
    "dividendYield = ql.FlatForward(\n",
    "    today, dividend_yield, ql.Actual360()\n",
    ")\n",
    "riskFreeRate = ql.FlatForward(today, 0.0008913, ql.Actual360())\n",
    "\n",
    "def create_option(row):\n",
    "    volatility = ql.BlackConstantVol(\n",
    "        today,\n",
    "        ql.UnitedStates(),\n",
    "        row[\"volatility\"],\n",
    "        ql.Business252()\n",
    "    )\n",
    "    option = ql.VanillaOption(\n",
    "        ql.PlainVanillaPayoff(ql.Option.Call, row[\"strike\"]),\n",
    "        exercise\n",
    "    )\n",
    "    process = ql.BlackScholesMertonProcess(\n",
    "        ql.QuoteHandle(underlying),\n",
    "        ql.YieldTermStructureHandle(dividendYield),\n",
    "        ql.YieldTermStructureHandle(riskFreeRate),\n",
    "        ql.BlackVolTermStructureHandle(volatility),\n",
    "    )\n",
    "    # Don't use the quoted implied vol\n",
    "    # Calculate it out from the last price\n",
    "    imp_vol = option.impliedVolatility(row[\"lastPrice\"], process)\n",
    "    implied_volatility = ql.BlackConstantVol(\n",
    "        today,\n",
    "        ql.UnitedStates(),\n",
    "        imp_vol,\n",
    "        ql.Business252()\n",
    "    )\n",
    "    process = ql.BlackScholesMertonProcess(\n",
    "        ql.QuoteHandle(underlying),\n",
    "        ql.YieldTermStructureHandle(dividendYield),\n",
    "        ql.YieldTermStructureHandle(riskFreeRate),\n",
    "        ql.BlackVolTermStructureHandle(implied_volatility),\n",
    "    )\n",
    "    option.setPricingEngine(\n",
    "        ql.FdBlackScholesVanillaEngine(process, 1000, 1000)\n",
    "    )\n",
    "    return {\n",
    "        \"Name\": row[\"contractSymbol\"],\n",
    "        \"Strike\": row[\"strike\"],\n",
    "        \"Last\": row[\"lastPrice\"],\n",
    "        \"Bid\": row[\"bid\"],\n",
    "        \"Ask\": row[\"ask\"],\n",
    "        \"NPV\": option.NPV(),\n",
    "        \"Delta\": option.delta(),\n",
    "        \"Gamma\": option.gamma(),\n",
    "        \"Theta\": option.theta() / 365,\n",
    "        \"Volatility\": imp_vol * 100,\n",
    "    }# Filter down to only OTM strikes"
   ]
  }
 ],
 "metadata": {
  "kernelspec": {
   "display_name": "Python 3",
   "language": "python",
   "name": "python3"
  },
  "language_info": {
   "codemirror_mode": {
    "name": "ipython",
    "version": 3
   },
   "file_extension": ".py",
   "mimetype": "text/x-python",
   "name": "python",
   "nbconvert_exporter": "python",
   "pygments_lexer": "ipython3",
   "version": "3.6.12"
  }
 },
 "nbformat": 4,
 "nbformat_minor": 5
}
