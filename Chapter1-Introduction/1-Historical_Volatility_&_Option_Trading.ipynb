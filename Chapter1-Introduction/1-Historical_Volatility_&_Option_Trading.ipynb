{
 "cells": [
  {
   "cell_type": "markdown",
   "metadata": {},
   "source": [
    "# Trading Options"
   ]
  },
  {
   "cell_type": "markdown",
   "metadata": {},
   "source": [
    "In this Notebook we are going to have look at trading call and put options. First of all we are going to look at the volatility and how it effects the options of a stock. Then we will take a look at how  buying and selling options effects your return. Finaly we will download an option chain for a randomly selected stock. Then we will filter the option chain and find specific options."
   ]
  },
  {
   "cell_type": "markdown",
   "metadata": {},
   "source": [
    "### 1. Historical Volatility and Option Pricing\n",
    "Historical Volatility gauges the fluctuations of underlying securities by measuring the price changes over a predetermined period of time in the past. Therefore the Historical Volatility plays a key role in option trading. Historical volatility can help traders understand a stock's past price movements, which can then be compared to the expected price movements of the stock in the future (via implied volatility or the stock's option prices).\n"
   ]
  },
  {
   "cell_type": "markdown",
   "metadata": {},
   "source": [
    "### 2. The Call & Put Option\n",
    "\n",
    "Buying a **call**/ **put** option gives you the right, but not the obligation to **buy**/ **sell** the underlying security at the given strike price, within a specific time period. A call/ put option payoff at expiration depends on where the underlying price is relative to the **call**/ **put** option strike price. \n"
   ]
  },
  {
   "cell_type": "markdown",
   "metadata": {},
   "source": [
    "### 3.  Options Chain\n",
    "\n",
    "An options chain is a listing of all available options contracts for a given security. It shows all listed puts, calls, their expiration, strike prices, and volume and pricing information for a single underlying asset within a given maturity period. The chain will typically be categorized by expiration date and segmented by calls vs. puts. "
   ]
  },
  {
   "cell_type": "code",
   "execution_count": 1,
   "metadata": {},
   "outputs": [],
   "source": [
    "import time\n",
    "import datetime\n",
    "start = datetime.datetime(2020,2,1)\n",
    "end = datetime.date.today()\n",
    "import yfinance as yf\n",
    "from pandas_datareader.data import Options\n",
    "import pandas as pd\n",
    "pd.options.display.float_format = '{:,.4f}'.format\n",
    "import numpy as np\n",
    "\n",
    "from tqdm import tqdm\n",
    "import warnings\n",
    "warnings.filterwarnings(\"ignore\")\n",
    "\n",
    "%matplotlib inline\n",
    "from IPython.core.pylabtools import figsize\n",
    "figsize(10,6)\n",
    "import matplotlib.pyplot as plt\n",
    "plt.style.use('dark_background')\n",
    "\n",
    "import bs4 as bs\n",
    "from bs4 import BeautifulSoup\n",
    "import requests\n",
    "\n",
    "import sys\n",
    "sys.path.insert(0, '../scripts/')\n",
    "from database import Stock"
   ]
  },
  {
   "cell_type": "markdown",
   "metadata": {},
   "source": [
    "### Stock Data\n",
    " Scrap SP500 Tickers"
   ]
  },
  {
   "cell_type": "code",
   "execution_count": 2,
   "metadata": {},
   "outputs": [],
   "source": [
    "def save_sp500_tickers():\n",
    "\n",
    "    resp = requests.get('http://en.wikipedia.org/wiki/List_of_S%26P_500_companies')\n",
    "    soup = bs.BeautifulSoup(resp.text, 'html')\n",
    "    table = soup.find('table', {'class': 'wikitable sortable'})\n",
    "    tickers = []\n",
    "    for row in table.findAll('tr')[1:]:\n",
    "        ticker = row.findAll('td')[0].text\n",
    "        if not '.' in ticker:\n",
    "            tickers.append(ticker.replace('\\n',''))\n",
    "        \n",
    "    return tickers\n",
    "\n",
    "symbols = save_sp500_tickers()"
   ]
  },
  {
   "cell_type": "markdown",
   "metadata": {},
   "source": [
    " Pick an example from the sp500 list"
   ]
  },
  {
   "cell_type": "code",
   "execution_count": 37,
   "metadata": {},
   "outputs": [
    {
     "name": "stdout",
     "output_type": "stream",
     "text": [
      "ADBE\n"
     ]
    }
   ],
   "source": [
    "ex = symbols[6]\n",
    "print(ex)"
   ]
  },
  {
   "cell_type": "markdown",
   "metadata": {},
   "source": [
    "Lets take Adobe Inc. (ADBE) as an example"
   ]
  },
  {
   "cell_type": "markdown",
   "metadata": {},
   "source": [
    "### 1. Computing Historical Volatility"
   ]
  },
  {
   "cell_type": "code",
   "execution_count": 38,
   "metadata": {},
   "outputs": [],
   "source": [
    "data = Stock(ex, start, end).df"
   ]
  },
  {
   "cell_type": "code",
   "execution_count": 39,
   "metadata": {},
   "outputs": [],
   "source": [
    "data=data[['Close']]\n",
    "data['Log Returns'] = np.log(data['Close']/data['Close'].shift(1))"
   ]
  },
  {
   "cell_type": "code",
   "execution_count": 40,
   "metadata": {},
   "outputs": [],
   "source": [
    "data['20 day Historical Volatility'] = 100*data['Log Returns'].rolling(window=20).std()"
   ]
  },
  {
   "cell_type": "markdown",
   "metadata": {},
   "source": [
    "### Plot the volatility"
   ]
  },
  {
   "cell_type": "markdown",
   "metadata": {},
   "source": [
    "and visualise how it changes over the period of one year."
   ]
  },
  {
   "cell_type": "code",
   "execution_count": 41,
   "metadata": {},
   "outputs": [
    {
     "data": {
      "image/png": "[encoded data removed]",
      "text/plain": [
       "<Figure size 720x432 with 1 Axes>"
      ]
     },
     "metadata": {},
     "output_type": "display_data"
    }
   ],
   "source": [
    "plt.plot(data['20 day Historical Volatility'], color = 'b', label ='20 day Historical Volatility')\n",
    "plt.legend(loc='best')\n",
    "plt.show()"
   ]
  },
  {
   "cell_type": "markdown",
   "metadata": {},
   "source": [
    "## 2. Call & Put Options\n",
    "**Risk profiles of option buyer and seller**"
   ]
  },
  {
   "cell_type": "markdown",
   "metadata": {},
   "source": [
    "**Call payoff**"
   ]
  },
  {
   "cell_type": "code",
   "execution_count": 42,
   "metadata": {},
   "outputs": [],
   "source": [
    "def call_payoff(sT, strike_price, premium):\n",
    "    pnl = np.where(sT > strike_price, sT - strike_price, 0)    \n",
    "    return pnl - premium"
   ]
  },
  {
   "cell_type": "markdown",
   "metadata": {},
   "source": [
    "**Put payoff**\n"
   ]
  },
  {
   "cell_type": "code",
   "execution_count": 43,
   "metadata": {},
   "outputs": [],
   "source": [
    "def put_payoff (sT, strike_price, premium):\n",
    "    pnl = np.where(sT<strike_price, strike_price - sT, 0)\n",
    "    return pnl - premium"
   ]
  },
  {
   "cell_type": "markdown",
   "metadata": {},
   "source": [
    "#### Simulating the effect of buying and selling an call or a put option"
   ]
  },
  {
   "cell_type": "markdown",
   "metadata": {},
   "source": [
    "Define parameters"
   ]
  },
  {
   "cell_type": "code",
   "execution_count": 44,
   "metadata": {},
   "outputs": [
    {
     "data": {
      "text/plain": [
       "Close                          491.2300\n",
       "Log Returns                     -0.0210\n",
       "20 day Historical Volatility     1.5723\n",
       "Name: 2021-02-17 00:00:00, dtype: float64"
      ]
     },
     "execution_count": 44,
     "metadata": {},
     "output_type": "execute_result"
    }
   ],
   "source": [
    "data.iloc[-1]"
   ]
  },
  {
   "cell_type": "code",
   "execution_count": 58,
   "metadata": {},
   "outputs": [],
   "source": [
    "# Stock price \n",
    "spot_price = data.iloc[-1].Close\n",
    "\n",
    "# Strike price and cost\n",
    "strike_price =data.iloc[-1].Close\n",
    "premium = 25\n",
    "\n",
    "# Stock price range at the expiration of the call\n",
    "# We have defined range for the stock price at expiry as +/- 10% from spot price\n",
    "# Syntax: numpy.arange(start price, stop price)\n",
    "sT = np.arange(0.9*spot_price,1.1*spot_price) "
   ]
  },
  {
   "cell_type": "markdown",
   "metadata": {},
   "source": [
    "## Call"
   ]
  },
  {
   "cell_type": "markdown",
   "metadata": {},
   "source": [
    "### Buyer Payoff"
   ]
  },
  {
   "cell_type": "code",
   "execution_count": 59,
   "metadata": {},
   "outputs": [
    {
     "data": {
      "image/png": "[encoded data removed]",
      "text/plain": [
       "<Figure size 576x360 with 1 Axes>"
      ]
     },
     "metadata": {},
     "output_type": "display_data"
    }
   ],
   "source": [
    "payoff_long_call = call_payoff(sT, strike_price, premium)\n",
    "# Plot the graph\n",
    "fig, ax = plt.subplots(figsize=(8,5))\n",
    "ax.spines['bottom'].set_position('zero')\n",
    "ax.plot(sT,payoff_long_call,label='Call option buyer payoff')\n",
    "plt.xlabel(ex+' Stock Price')\n",
    "plt.ylabel('Profit and loss')\n",
    "plt.legend()\n",
    "plt.show()"
   ]
  },
  {
   "cell_type": "markdown",
   "metadata": {},
   "source": [
    "What do you observe?\n",
    "\n",
    "- The loss to the call option buyer is restricted to the extent of the premium he has paid.\n",
    "\n",
    "- The profit from this call option seems to increase linearly as and when the stock price starts to move above the strike price. Therefore, the higher the spot price goes from the strike price, the higher is the profit.\n",
    "\n",
    "- Though the call option is supposed to make a profit when the spot price moves above the strike price, the call option buyer first needs to recover the premium he has paid."
   ]
  },
  {
   "cell_type": "markdown",
   "metadata": {},
   "source": [
    "### Seller Payoff"
   ]
  },
  {
   "cell_type": "markdown",
   "metadata": {},
   "source": [
    "To get the payoff graph for option seller, we have multiplied the payoff of option buyer by -1.0 as when the option buyer makes the profit, the option seller will lose the exact same amount and vice-versa.\n"
   ]
  },
  {
   "cell_type": "code",
   "execution_count": 60,
   "metadata": {},
   "outputs": [
    {
     "data": {
      "image/png": "[encoded data removed]",
      "text/plain": [
       "<Figure size 576x360 with 1 Axes>"
      ]
     },
     "metadata": {},
     "output_type": "display_data"
    }
   ],
   "source": [
    "payoff_short_call = payoff_long_call * -1.0\n",
    "# Plot\n",
    "fig, ax = plt.subplots(figsize=(8,5))\n",
    "ax.spines['bottom'].set_position('zero')\n",
    "ax.plot(sT,payoff_short_call,label='Short Strike Call',color='r')\n",
    "plt.xlabel(ex+' Stock Price')\n",
    "plt.ylabel('Profit and loss')\n",
    "plt.legend()\n",
    "plt.show()"
   ]
  },
  {
   "cell_type": "markdown",
   "metadata": {},
   "source": [
    "The call option seller payoff looks like a mirror image of the call option buyer payoff. "
   ]
  },
  {
   "cell_type": "markdown",
   "metadata": {},
   "source": [
    "## Put Option\n"
   ]
  },
  {
   "cell_type": "markdown",
   "metadata": {},
   "source": [
    "### Buyer Payoff\n"
   ]
  },
  {
   "cell_type": "code",
   "execution_count": 61,
   "metadata": {},
   "outputs": [
    {
     "data": {
      "image/png": "[encoded data removed]",
      "text/plain": [
       "<Figure size 576x360 with 1 Axes>"
      ]
     },
     "metadata": {},
     "output_type": "display_data"
    }
   ],
   "source": [
    "payoff_long_put = put_payoff(sT, strike_price, premium)\n",
    "# Plot the graph\n",
    "fig, ax = plt.subplots(figsize=(8,5))\n",
    "ax.spines['bottom'].set_position('zero')\n",
    "ax.plot(sT,payoff_long_put,label='Put option buyer payoff')\n",
    "plt.xlabel(ex+' Stock Price')\n",
    "plt.ylabel('Profit and loss')\n",
    "plt.legend()\n",
    "plt.show()"
   ]
  },
  {
   "cell_type": "markdown",
   "metadata": {},
   "source": [
    "What do you observe?\n",
    "\n",
    "- The loss to the put option buyer is restricted to the extent of the premium he has paid.\n",
    "\n",
    "- The profit from this put option seems to increase linearly as and when the stock starts to move below the strike price. Therefore, the higher the spot price goes from the strike price, the higher is the profit.\n",
    "\n",
    "- Though the put option is supposed to make a profit when the spot price moves below the strike price, the put option buyer first needs to recover the premium he has paid."
   ]
  },
  {
   "cell_type": "markdown",
   "metadata": {},
   "source": [
    "### Seller Payoff"
   ]
  },
  {
   "cell_type": "markdown",
   "metadata": {},
   "source": [
    "To get the payoff graph for option seller, we have multiplied the payoff of option buyer by -1.0, as the option buyer makes the profit, the option seller will lose the exact same amount and vice-versa."
   ]
  },
  {
   "cell_type": "code",
   "execution_count": 62,
   "metadata": {},
   "outputs": [
    {
     "data": {
      "image/png": "[encoded data removed]",
      "text/plain": [
       "<Figure size 576x360 with 1 Axes>"
      ]
     },
     "metadata": {},
     "output_type": "display_data"
    }
   ],
   "source": [
    "payoff_short_put = payoff_long_put * -1.0\n",
    "# Plot\n",
    "fig, ax = plt.subplots(figsize=(8,5))\n",
    "ax.spines['bottom'].set_position('zero')\n",
    "ax.plot(sT,payoff_short_put,label='Put option seller payoff',color='r')\n",
    "plt.xlabel(ex+' Stock Price')\n",
    "plt.ylabel('Profit and loss')\n",
    "plt.legend()\n",
    "plt.show()"
   ]
  },
  {
   "cell_type": "markdown",
   "metadata": {},
   "source": [
    "The put option seller payoff looks like a mirror image of the put option buyer payoff. "
   ]
  },
  {
   "cell_type": "markdown",
   "metadata": {},
   "source": [
    "Therefore, you sell a put or a call option only when your view is that the underlying asset will not fall beyond the strike price."
   ]
  },
  {
   "cell_type": "markdown",
   "metadata": {},
   "source": [
    "## 3. Options Chain"
   ]
  },
  {
   "cell_type": "markdown",
   "metadata": {},
   "source": [
    "Now we download option data for the first 10 stocks we scraped from the sp500 including Adobe Inc. (ADBE)"
   ]
  },
  {
   "cell_type": "code",
   "execution_count": 63,
   "metadata": {},
   "outputs": [
    {
     "name": "stderr",
     "output_type": "stream",
     "text": [
      "  0%|          | 0/10 [00:00<?, ?it/s]"
     ]
    },
    {
     "name": "stdout",
     "output_type": "stream",
     "text": [
      "--------------------------------------------------\n",
      "downloading MMM ...\n"
     ]
    },
    {
     "name": "stderr",
     "output_type": "stream",
     "text": [
      " 10%|█         | 1/10 [00:00<00:04,  1.96it/s]"
     ]
    },
    {
     "name": "stdout",
     "output_type": "stream",
     "text": [
      "MMM complete\n",
      "\n",
      "--------------------------------------------------\n",
      "downloading ABT ...\n"
     ]
    },
    {
     "name": "stderr",
     "output_type": "stream",
     "text": [
      " 20%|██        | 2/10 [00:00<00:03,  2.08it/s]"
     ]
    },
    {
     "name": "stdout",
     "output_type": "stream",
     "text": [
      "ABT complete\n",
      "\n",
      "--------------------------------------------------\n",
      "downloading ABBV ...\n"
     ]
    },
    {
     "name": "stderr",
     "output_type": "stream",
     "text": [
      " 30%|███       | 3/10 [00:01<00:03,  2.19it/s]"
     ]
    },
    {
     "name": "stdout",
     "output_type": "stream",
     "text": [
      "ABBV complete\n",
      "\n",
      "--------------------------------------------------\n",
      "downloading ABMD ...\n"
     ]
    },
    {
     "name": "stderr",
     "output_type": "stream",
     "text": [
      " 40%|████      | 4/10 [00:01<00:02,  2.09it/s]"
     ]
    },
    {
     "name": "stdout",
     "output_type": "stream",
     "text": [
      "ABMD complete\n",
      "\n",
      "--------------------------------------------------\n",
      "downloading ACN ...\n"
     ]
    },
    {
     "name": "stderr",
     "output_type": "stream",
     "text": [
      " 50%|█████     | 5/10 [00:02<00:02,  2.21it/s]"
     ]
    },
    {
     "name": "stdout",
     "output_type": "stream",
     "text": [
      "ACN complete\n",
      "\n",
      "--------------------------------------------------\n",
      "downloading ATVI ...\n"
     ]
    },
    {
     "name": "stderr",
     "output_type": "stream",
     "text": [
      " 60%|██████    | 6/10 [00:02<00:01,  2.21it/s]"
     ]
    },
    {
     "name": "stdout",
     "output_type": "stream",
     "text": [
      "ATVI complete\n",
      "\n",
      "--------------------------------------------------\n",
      "downloading ADBE ...\n"
     ]
    },
    {
     "name": "stderr",
     "output_type": "stream",
     "text": [
      " 70%|███████   | 7/10 [00:03<00:01,  2.25it/s]"
     ]
    },
    {
     "name": "stdout",
     "output_type": "stream",
     "text": [
      "ADBE complete\n",
      "\n",
      "--------------------------------------------------\n",
      "downloading AMD ...\n"
     ]
    },
    {
     "name": "stderr",
     "output_type": "stream",
     "text": [
      " 80%|████████  | 8/10 [00:03<00:00,  2.26it/s]"
     ]
    },
    {
     "name": "stdout",
     "output_type": "stream",
     "text": [
      "AMD complete\n",
      "\n",
      "--------------------------------------------------\n",
      "downloading AAP ...\n"
     ]
    },
    {
     "name": "stderr",
     "output_type": "stream",
     "text": [
      " 90%|█████████ | 9/10 [00:03<00:00,  2.31it/s]"
     ]
    },
    {
     "name": "stdout",
     "output_type": "stream",
     "text": [
      "AAP complete\n",
      "\n",
      "--------------------------------------------------\n",
      "downloading AES ...\n"
     ]
    },
    {
     "name": "stderr",
     "output_type": "stream",
     "text": [
      "100%|██████████| 10/10 [00:04<00:00,  2.38it/s]"
     ]
    },
    {
     "name": "stdout",
     "output_type": "stream",
     "text": [
      "AES complete\n",
      "\n"
     ]
    },
    {
     "name": "stderr",
     "output_type": "stream",
     "text": [
      "\n"
     ]
    }
   ],
   "source": [
    "# ------------------------------------------------------------------------------\n",
    "# run aggregation func\n",
    "# ------------------------------------------------------------------------------\n",
    "errors = []\n",
    "\n",
    "call_dict = {}\n",
    "put_dict = {}\n",
    "date_dict = {}\n",
    "\n",
    "for sym in tqdm(symbols[0:10]):\n",
    "    print('-'*50)\n",
    "    print('downloading {} ...'.format(sym))\n",
    "    try:\n",
    "        opt_sym = yf.Ticker(sym)\n",
    "        date_dict[sym] = opt_sym.options\n",
    "        date_long = opt_sym.options[-1]\n",
    "        #date_short = opt_sym.options[1]\n",
    "        opt = opt_sym.option_chain(date_long)\n",
    "        call_dict[sym] = opt.calls\n",
    "        put_dict[sym] = opt.puts\n",
    "    except Exception as e:\n",
    "        errors.append(sym)\n",
    "        print('{} error: {}'.format(sym, e))\n",
    "        continue\n",
    "    else:\n",
    "        print('{} complete'.format(sym))\n",
    "        print()"
   ]
  },
  {
   "cell_type": "markdown",
   "metadata": {},
   "source": [
    "#### Clean the  data and save it "
   ]
  },
  {
   "cell_type": "code",
   "execution_count": 82,
   "metadata": {},
   "outputs": [],
   "source": [
    "_option_data = '../../data/option_data/'\n",
    "\n",
    "dates_dict = {}\n",
    "\n",
    "for sym in call_dict:\n",
    "    opt_sym = yf.Ticker(sym)\n",
    "    dates_dict[sym] = opt_sym.options\n",
    "    date_long = opt_sym.options[4]\n",
    "    tmp_ = call_dict[sym]\n",
    "    tmp_['symbol'] = sym\n",
    "    tmp_['date'] = date_long\n",
    "    df = tmp_[['symbol', 'date', 'contractSymbol', 'strike', 'lastPrice', 'bid', 'strike', 'volume',  'impliedVolatility', 'inTheMoney']]\n",
    "    df.columns = ['symbol','date','contract','strike', 'last',  'bid',  'ask', 'volume', 'iv', 'in-the-money']  \n",
    "    df.to_excel(_option_data + \"call/\"+sym+\".xlsx\")"
   ]
  },
  {
   "cell_type": "markdown",
   "metadata": {},
   "source": [
    "#### Set \"in-the-money\" as a filter"
   ]
  },
  {
   "cell_type": "code",
   "execution_count": 86,
   "metadata": {},
   "outputs": [],
   "source": [
    "adbe_calls = pd.read_excel(_option_data + \"call/\"+\"ADBE\"+\".xlsx\")"
   ]
  },
  {
   "cell_type": "code",
   "execution_count": 87,
   "metadata": {},
   "outputs": [
    {
     "data": {
      "text/html": [
       "<div>\n",
       "<style scoped>\n",
       "    .dataframe tbody tr th:only-of-type {\n",
       "        vertical-align: middle;\n",
       "    }\n",
       "\n",
       "    .dataframe tbody tr th {\n",
       "        vertical-align: top;\n",
       "    }\n",
       "\n",
       "    .dataframe thead th {\n",
       "        text-align: right;\n",
       "    }\n",
       "</style>\n",
       "<table border=\"1\" class=\"dataframe\">\n",
       "  <thead>\n",
       "    <tr style=\"text-align: right;\">\n",
       "      <th></th>\n",
       "      <th>Unnamed: 0</th>\n",
       "      <th>symbol</th>\n",
       "      <th>date</th>\n",
       "      <th>contract</th>\n",
       "      <th>strike</th>\n",
       "      <th>last</th>\n",
       "      <th>bid</th>\n",
       "      <th>ask</th>\n",
       "      <th>volume</th>\n",
       "      <th>iv</th>\n",
       "      <th>in-the-money</th>\n",
       "    </tr>\n",
       "  </thead>\n",
       "  <tbody>\n",
       "    <tr>\n",
       "      <th>0</th>\n",
       "      <td>0</td>\n",
       "      <td>ADBE</td>\n",
       "      <td>2021-03-19</td>\n",
       "      <td>ADBE230120C00230000</td>\n",
       "      <td>230</td>\n",
       "      <td>267.0000</td>\n",
       "      <td>265.0000</td>\n",
       "      <td>230</td>\n",
       "      <td>1</td>\n",
       "      <td>0.5103</td>\n",
       "      <td>True</td>\n",
       "    </tr>\n",
       "    <tr>\n",
       "      <th>1</th>\n",
       "      <td>1</td>\n",
       "      <td>ADBE</td>\n",
       "      <td>2021-03-19</td>\n",
       "      <td>ADBE230120C00240000</td>\n",
       "      <td>240</td>\n",
       "      <td>254.0000</td>\n",
       "      <td>256.3000</td>\n",
       "      <td>240</td>\n",
       "      <td>1</td>\n",
       "      <td>0.5023</td>\n",
       "      <td>True</td>\n",
       "    </tr>\n",
       "    <tr>\n",
       "      <th>2</th>\n",
       "      <td>2</td>\n",
       "      <td>ADBE</td>\n",
       "      <td>2021-03-19</td>\n",
       "      <td>ADBE230120C00250000</td>\n",
       "      <td>250</td>\n",
       "      <td>232.0000</td>\n",
       "      <td>259.5500</td>\n",
       "      <td>250</td>\n",
       "      <td>1</td>\n",
       "      <td>0.5616</td>\n",
       "      <td>True</td>\n",
       "    </tr>\n",
       "    <tr>\n",
       "      <th>3</th>\n",
       "      <td>3</td>\n",
       "      <td>ADBE</td>\n",
       "      <td>2021-03-19</td>\n",
       "      <td>ADBE230120C00260000</td>\n",
       "      <td>260</td>\n",
       "      <td>232.0600</td>\n",
       "      <td>239.2000</td>\n",
       "      <td>260</td>\n",
       "      <td>1</td>\n",
       "      <td>0.4818</td>\n",
       "      <td>True</td>\n",
       "    </tr>\n",
       "    <tr>\n",
       "      <th>4</th>\n",
       "      <td>4</td>\n",
       "      <td>ADBE</td>\n",
       "      <td>2021-03-19</td>\n",
       "      <td>ADBE230120C00270000</td>\n",
       "      <td>270</td>\n",
       "      <td>222.7300</td>\n",
       "      <td>231.6000</td>\n",
       "      <td>270</td>\n",
       "      <td>1</td>\n",
       "      <td>0.4752</td>\n",
       "      <td>True</td>\n",
       "    </tr>\n",
       "    <tr>\n",
       "      <th>5</th>\n",
       "      <td>5</td>\n",
       "      <td>ADBE</td>\n",
       "      <td>2021-03-19</td>\n",
       "      <td>ADBE230120C00280000</td>\n",
       "      <td>280</td>\n",
       "      <td>215.9100</td>\n",
       "      <td>234.6500</td>\n",
       "      <td>280</td>\n",
       "      <td>1</td>\n",
       "      <td>0.5242</td>\n",
       "      <td>True</td>\n",
       "    </tr>\n",
       "    <tr>\n",
       "      <th>6</th>\n",
       "      <td>6</td>\n",
       "      <td>ADBE</td>\n",
       "      <td>2021-03-19</td>\n",
       "      <td>ADBE230120C00290000</td>\n",
       "      <td>290</td>\n",
       "      <td>220.3600</td>\n",
       "      <td>228.0000</td>\n",
       "      <td>290</td>\n",
       "      <td>2</td>\n",
       "      <td>0.5253</td>\n",
       "      <td>True</td>\n",
       "    </tr>\n",
       "    <tr>\n",
       "      <th>7</th>\n",
       "      <td>7</td>\n",
       "      <td>ADBE</td>\n",
       "      <td>2021-03-19</td>\n",
       "      <td>ADBE230120C00300000</td>\n",
       "      <td>300</td>\n",
       "      <td>210.0000</td>\n",
       "      <td>208.2500</td>\n",
       "      <td>300</td>\n",
       "      <td>1</td>\n",
       "      <td>0.4378</td>\n",
       "      <td>True</td>\n",
       "    </tr>\n",
       "    <tr>\n",
       "      <th>8</th>\n",
       "      <td>8</td>\n",
       "      <td>ADBE</td>\n",
       "      <td>2021-03-19</td>\n",
       "      <td>ADBE230120C00310000</td>\n",
       "      <td>310</td>\n",
       "      <td>204.2300</td>\n",
       "      <td>201.4500</td>\n",
       "      <td>310</td>\n",
       "      <td>1</td>\n",
       "      <td>0.4383</td>\n",
       "      <td>True</td>\n",
       "    </tr>\n",
       "    <tr>\n",
       "      <th>9</th>\n",
       "      <td>9</td>\n",
       "      <td>ADBE</td>\n",
       "      <td>2021-03-19</td>\n",
       "      <td>ADBE230120C00320000</td>\n",
       "      <td>320</td>\n",
       "      <td>196.5900</td>\n",
       "      <td>193.9000</td>\n",
       "      <td>320</td>\n",
       "      <td>1</td>\n",
       "      <td>0.4440</td>\n",
       "      <td>True</td>\n",
       "    </tr>\n",
       "    <tr>\n",
       "      <th>10</th>\n",
       "      <td>10</td>\n",
       "      <td>ADBE</td>\n",
       "      <td>2021-03-19</td>\n",
       "      <td>ADBE230120C00330000</td>\n",
       "      <td>330</td>\n",
       "      <td>165.0000</td>\n",
       "      <td>186.6000</td>\n",
       "      <td>330</td>\n",
       "      <td>1</td>\n",
       "      <td>0.4382</td>\n",
       "      <td>True</td>\n",
       "    </tr>\n",
       "    <tr>\n",
       "      <th>11</th>\n",
       "      <td>11</td>\n",
       "      <td>ADBE</td>\n",
       "      <td>2021-03-19</td>\n",
       "      <td>ADBE230120C00340000</td>\n",
       "      <td>340</td>\n",
       "      <td>190.4000</td>\n",
       "      <td>178.2000</td>\n",
       "      <td>340</td>\n",
       "      <td>1</td>\n",
       "      <td>0.4299</td>\n",
       "      <td>True</td>\n",
       "    </tr>\n",
       "    <tr>\n",
       "      <th>12</th>\n",
       "      <td>12</td>\n",
       "      <td>ADBE</td>\n",
       "      <td>2021-03-19</td>\n",
       "      <td>ADBE230120C00350000</td>\n",
       "      <td>350</td>\n",
       "      <td>173.0000</td>\n",
       "      <td>172.6000</td>\n",
       "      <td>350</td>\n",
       "      <td>1</td>\n",
       "      <td>0.4293</td>\n",
       "      <td>True</td>\n",
       "    </tr>\n",
       "    <tr>\n",
       "      <th>13</th>\n",
       "      <td>13</td>\n",
       "      <td>ADBE</td>\n",
       "      <td>2021-03-19</td>\n",
       "      <td>ADBE230120C00360000</td>\n",
       "      <td>360</td>\n",
       "      <td>181.3500</td>\n",
       "      <td>166.2500</td>\n",
       "      <td>360</td>\n",
       "      <td>1</td>\n",
       "      <td>0.4257</td>\n",
       "      <td>True</td>\n",
       "    </tr>\n",
       "    <tr>\n",
       "      <th>14</th>\n",
       "      <td>14</td>\n",
       "      <td>ADBE</td>\n",
       "      <td>2021-03-19</td>\n",
       "      <td>ADBE230120C00370000</td>\n",
       "      <td>370</td>\n",
       "      <td>137.4900</td>\n",
       "      <td>156.0500</td>\n",
       "      <td>370</td>\n",
       "      <td>4</td>\n",
       "      <td>0.4023</td>\n",
       "      <td>True</td>\n",
       "    </tr>\n",
       "    <tr>\n",
       "      <th>15</th>\n",
       "      <td>15</td>\n",
       "      <td>ADBE</td>\n",
       "      <td>2021-03-19</td>\n",
       "      <td>ADBE230120C00380000</td>\n",
       "      <td>380</td>\n",
       "      <td>160.0000</td>\n",
       "      <td>153.1500</td>\n",
       "      <td>380</td>\n",
       "      <td>1</td>\n",
       "      <td>0.4140</td>\n",
       "      <td>True</td>\n",
       "    </tr>\n",
       "    <tr>\n",
       "      <th>16</th>\n",
       "      <td>16</td>\n",
       "      <td>ADBE</td>\n",
       "      <td>2021-03-19</td>\n",
       "      <td>ADBE230120C00390000</td>\n",
       "      <td>390</td>\n",
       "      <td>133.0000</td>\n",
       "      <td>145.9500</td>\n",
       "      <td>390</td>\n",
       "      <td>2</td>\n",
       "      <td>0.4122</td>\n",
       "      <td>True</td>\n",
       "    </tr>\n",
       "    <tr>\n",
       "      <th>17</th>\n",
       "      <td>17</td>\n",
       "      <td>ADBE</td>\n",
       "      <td>2021-03-19</td>\n",
       "      <td>ADBE230120C00400000</td>\n",
       "      <td>400</td>\n",
       "      <td>142.0000</td>\n",
       "      <td>141.1000</td>\n",
       "      <td>400</td>\n",
       "      <td>3</td>\n",
       "      <td>0.4077</td>\n",
       "      <td>True</td>\n",
       "    </tr>\n",
       "    <tr>\n",
       "      <th>18</th>\n",
       "      <td>18</td>\n",
       "      <td>ADBE</td>\n",
       "      <td>2021-03-19</td>\n",
       "      <td>ADBE230120C00410000</td>\n",
       "      <td>410</td>\n",
       "      <td>118.0700</td>\n",
       "      <td>134.8500</td>\n",
       "      <td>410</td>\n",
       "      <td>1</td>\n",
       "      <td>0.3934</td>\n",
       "      <td>True</td>\n",
       "    </tr>\n",
       "    <tr>\n",
       "      <th>19</th>\n",
       "      <td>19</td>\n",
       "      <td>ADBE</td>\n",
       "      <td>2021-03-19</td>\n",
       "      <td>ADBE230120C00420000</td>\n",
       "      <td>420</td>\n",
       "      <td>129.3000</td>\n",
       "      <td>127.9500</td>\n",
       "      <td>420</td>\n",
       "      <td>1</td>\n",
       "      <td>0.3966</td>\n",
       "      <td>True</td>\n",
       "    </tr>\n",
       "    <tr>\n",
       "      <th>20</th>\n",
       "      <td>20</td>\n",
       "      <td>ADBE</td>\n",
       "      <td>2021-03-19</td>\n",
       "      <td>ADBE230120C00430000</td>\n",
       "      <td>430</td>\n",
       "      <td>129.6000</td>\n",
       "      <td>121.9500</td>\n",
       "      <td>430</td>\n",
       "      <td>1</td>\n",
       "      <td>0.3885</td>\n",
       "      <td>True</td>\n",
       "    </tr>\n",
       "    <tr>\n",
       "      <th>21</th>\n",
       "      <td>21</td>\n",
       "      <td>ADBE</td>\n",
       "      <td>2021-03-19</td>\n",
       "      <td>ADBE230120C00435000</td>\n",
       "      <td>435</td>\n",
       "      <td>123.1500</td>\n",
       "      <td>119.7500</td>\n",
       "      <td>435</td>\n",
       "      <td>5</td>\n",
       "      <td>0.3937</td>\n",
       "      <td>True</td>\n",
       "    </tr>\n",
       "    <tr>\n",
       "      <th>22</th>\n",
       "      <td>22</td>\n",
       "      <td>ADBE</td>\n",
       "      <td>2021-03-19</td>\n",
       "      <td>ADBE230120C00440000</td>\n",
       "      <td>440</td>\n",
       "      <td>117.2000</td>\n",
       "      <td>118.3500</td>\n",
       "      <td>440</td>\n",
       "      <td>1</td>\n",
       "      <td>0.3854</td>\n",
       "      <td>True</td>\n",
       "    </tr>\n",
       "    <tr>\n",
       "      <th>23</th>\n",
       "      <td>23</td>\n",
       "      <td>ADBE</td>\n",
       "      <td>2021-03-19</td>\n",
       "      <td>ADBE230120C00445000</td>\n",
       "      <td>445</td>\n",
       "      <td>120.0000</td>\n",
       "      <td>115.4000</td>\n",
       "      <td>445</td>\n",
       "      <td>1</td>\n",
       "      <td>0.3750</td>\n",
       "      <td>True</td>\n",
       "    </tr>\n",
       "    <tr>\n",
       "      <th>24</th>\n",
       "      <td>24</td>\n",
       "      <td>ADBE</td>\n",
       "      <td>2021-03-19</td>\n",
       "      <td>ADBE230120C00450000</td>\n",
       "      <td>450</td>\n",
       "      <td>118.0000</td>\n",
       "      <td>112.9500</td>\n",
       "      <td>450</td>\n",
       "      <td>1</td>\n",
       "      <td>0.3839</td>\n",
       "      <td>True</td>\n",
       "    </tr>\n",
       "    <tr>\n",
       "      <th>25</th>\n",
       "      <td>25</td>\n",
       "      <td>ADBE</td>\n",
       "      <td>2021-03-19</td>\n",
       "      <td>ADBE230120C00455000</td>\n",
       "      <td>455</td>\n",
       "      <td>100.2400</td>\n",
       "      <td>110.2000</td>\n",
       "      <td>455</td>\n",
       "      <td>2</td>\n",
       "      <td>0.3859</td>\n",
       "      <td>True</td>\n",
       "    </tr>\n",
       "    <tr>\n",
       "      <th>26</th>\n",
       "      <td>26</td>\n",
       "      <td>ADBE</td>\n",
       "      <td>2021-03-19</td>\n",
       "      <td>ADBE230120C00460000</td>\n",
       "      <td>460</td>\n",
       "      <td>112.6500</td>\n",
       "      <td>106.3500</td>\n",
       "      <td>460</td>\n",
       "      <td>1</td>\n",
       "      <td>0.3814</td>\n",
       "      <td>True</td>\n",
       "    </tr>\n",
       "    <tr>\n",
       "      <th>27</th>\n",
       "      <td>27</td>\n",
       "      <td>ADBE</td>\n",
       "      <td>2021-03-19</td>\n",
       "      <td>ADBE230120C00465000</td>\n",
       "      <td>465</td>\n",
       "      <td>110.1000</td>\n",
       "      <td>105.3000</td>\n",
       "      <td>465</td>\n",
       "      <td>1</td>\n",
       "      <td>0.3799</td>\n",
       "      <td>True</td>\n",
       "    </tr>\n",
       "    <tr>\n",
       "      <th>28</th>\n",
       "      <td>28</td>\n",
       "      <td>ADBE</td>\n",
       "      <td>2021-03-19</td>\n",
       "      <td>ADBE230120C00470000</td>\n",
       "      <td>470</td>\n",
       "      <td>102.0000</td>\n",
       "      <td>101.9500</td>\n",
       "      <td>470</td>\n",
       "      <td>1</td>\n",
       "      <td>0.3774</td>\n",
       "      <td>True</td>\n",
       "    </tr>\n",
       "    <tr>\n",
       "      <th>29</th>\n",
       "      <td>29</td>\n",
       "      <td>ADBE</td>\n",
       "      <td>2021-03-19</td>\n",
       "      <td>ADBE230120C00475000</td>\n",
       "      <td>475</td>\n",
       "      <td>112.0500</td>\n",
       "      <td>100.9500</td>\n",
       "      <td>475</td>\n",
       "      <td>7</td>\n",
       "      <td>0.3764</td>\n",
       "      <td>True</td>\n",
       "    </tr>\n",
       "    <tr>\n",
       "      <th>30</th>\n",
       "      <td>30</td>\n",
       "      <td>ADBE</td>\n",
       "      <td>2021-03-19</td>\n",
       "      <td>ADBE230120C00480000</td>\n",
       "      <td>480</td>\n",
       "      <td>97.8000</td>\n",
       "      <td>96.9000</td>\n",
       "      <td>480</td>\n",
       "      <td>5</td>\n",
       "      <td>0.3781</td>\n",
       "      <td>True</td>\n",
       "    </tr>\n",
       "    <tr>\n",
       "      <th>31</th>\n",
       "      <td>31</td>\n",
       "      <td>ADBE</td>\n",
       "      <td>2021-03-19</td>\n",
       "      <td>ADBE230120C00485000</td>\n",
       "      <td>485</td>\n",
       "      <td>98.2400</td>\n",
       "      <td>95.7500</td>\n",
       "      <td>485</td>\n",
       "      <td>6</td>\n",
       "      <td>0.3754</td>\n",
       "      <td>True</td>\n",
       "    </tr>\n",
       "  </tbody>\n",
       "</table>\n",
       "</div>"
      ],
      "text/plain": [
       "    Unnamed: 0 symbol        date             contract  strike     last  \\\n",
       "0            0   ADBE  2021-03-19  ADBE230120C00230000     230 267.0000   \n",
       "1            1   ADBE  2021-03-19  ADBE230120C00240000     240 254.0000   \n",
       "2            2   ADBE  2021-03-19  ADBE230120C00250000     250 232.0000   \n",
       "3            3   ADBE  2021-03-19  ADBE230120C00260000     260 232.0600   \n",
       "4            4   ADBE  2021-03-19  ADBE230120C00270000     270 222.7300   \n",
       "5            5   ADBE  2021-03-19  ADBE230120C00280000     280 215.9100   \n",
       "6            6   ADBE  2021-03-19  ADBE230120C00290000     290 220.3600   \n",
       "7            7   ADBE  2021-03-19  ADBE230120C00300000     300 210.0000   \n",
       "8            8   ADBE  2021-03-19  ADBE230120C00310000     310 204.2300   \n",
       "9            9   ADBE  2021-03-19  ADBE230120C00320000     320 196.5900   \n",
       "10          10   ADBE  2021-03-19  ADBE230120C00330000     330 165.0000   \n",
       "11          11   ADBE  2021-03-19  ADBE230120C00340000     340 190.4000   \n",
       "12          12   ADBE  2021-03-19  ADBE230120C00350000     350 173.0000   \n",
       "13          13   ADBE  2021-03-19  ADBE230120C00360000     360 181.3500   \n",
       "14          14   ADBE  2021-03-19  ADBE230120C00370000     370 137.4900   \n",
       "15          15   ADBE  2021-03-19  ADBE230120C00380000     380 160.0000   \n",
       "16          16   ADBE  2021-03-19  ADBE230120C00390000     390 133.0000   \n",
       "17          17   ADBE  2021-03-19  ADBE230120C00400000     400 142.0000   \n",
       "18          18   ADBE  2021-03-19  ADBE230120C00410000     410 118.0700   \n",
       "19          19   ADBE  2021-03-19  ADBE230120C00420000     420 129.3000   \n",
       "20          20   ADBE  2021-03-19  ADBE230120C00430000     430 129.6000   \n",
       "21          21   ADBE  2021-03-19  ADBE230120C00435000     435 123.1500   \n",
       "22          22   ADBE  2021-03-19  ADBE230120C00440000     440 117.2000   \n",
       "23          23   ADBE  2021-03-19  ADBE230120C00445000     445 120.0000   \n",
       "24          24   ADBE  2021-03-19  ADBE230120C00450000     450 118.0000   \n",
       "25          25   ADBE  2021-03-19  ADBE230120C00455000     455 100.2400   \n",
       "26          26   ADBE  2021-03-19  ADBE230120C00460000     460 112.6500   \n",
       "27          27   ADBE  2021-03-19  ADBE230120C00465000     465 110.1000   \n",
       "28          28   ADBE  2021-03-19  ADBE230120C00470000     470 102.0000   \n",
       "29          29   ADBE  2021-03-19  ADBE230120C00475000     475 112.0500   \n",
       "30          30   ADBE  2021-03-19  ADBE230120C00480000     480  97.8000   \n",
       "31          31   ADBE  2021-03-19  ADBE230120C00485000     485  98.2400   \n",
       "\n",
       "        bid  ask  volume     iv  in-the-money  \n",
       "0  265.0000  230       1 0.5103          True  \n",
       "1  256.3000  240       1 0.5023          True  \n",
       "2  259.5500  250       1 0.5616          True  \n",
       "3  239.2000  260       1 0.4818          True  \n",
       "4  231.6000  270       1 0.4752          True  \n",
       "5  234.6500  280       1 0.5242          True  \n",
       "6  228.0000  290       2 0.5253          True  \n",
       "7  208.2500  300       1 0.4378          True  \n",
       "8  201.4500  310       1 0.4383          True  \n",
       "9  193.9000  320       1 0.4440          True  \n",
       "10 186.6000  330       1 0.4382          True  \n",
       "11 178.2000  340       1 0.4299          True  \n",
       "12 172.6000  350       1 0.4293          True  \n",
       "13 166.2500  360       1 0.4257          True  \n",
       "14 156.0500  370       4 0.4023          True  \n",
       "15 153.1500  380       1 0.4140          True  \n",
       "16 145.9500  390       2 0.4122          True  \n",
       "17 141.1000  400       3 0.4077          True  \n",
       "18 134.8500  410       1 0.3934          True  \n",
       "19 127.9500  420       1 0.3966          True  \n",
       "20 121.9500  430       1 0.3885          True  \n",
       "21 119.7500  435       5 0.3937          True  \n",
       "22 118.3500  440       1 0.3854          True  \n",
       "23 115.4000  445       1 0.3750          True  \n",
       "24 112.9500  450       1 0.3839          True  \n",
       "25 110.2000  455       2 0.3859          True  \n",
       "26 106.3500  460       1 0.3814          True  \n",
       "27 105.3000  465       1 0.3799          True  \n",
       "28 101.9500  470       1 0.3774          True  \n",
       "29 100.9500  475       7 0.3764          True  \n",
       "30  96.9000  480       5 0.3781          True  \n",
       "31  95.7500  485       6 0.3754          True  "
      ]
     },
     "execution_count": 87,
     "metadata": {},
     "output_type": "execute_result"
    }
   ],
   "source": [
    "adbe_calls[adbe_calls[\"in-the-money\"]==True]"
   ]
  },
  {
   "cell_type": "code",
   "execution_count": 88,
   "metadata": {},
   "outputs": [
    {
     "data": {
      "text/html": [
       "<div>\n",
       "<style scoped>\n",
       "    .dataframe tbody tr th:only-of-type {\n",
       "        vertical-align: middle;\n",
       "    }\n",
       "\n",
       "    .dataframe tbody tr th {\n",
       "        vertical-align: top;\n",
       "    }\n",
       "\n",
       "    .dataframe thead th {\n",
       "        text-align: right;\n",
       "    }\n",
       "</style>\n",
       "<table border=\"1\" class=\"dataframe\">\n",
       "  <thead>\n",
       "    <tr style=\"text-align: right;\">\n",
       "      <th></th>\n",
       "      <th>Unnamed: 0</th>\n",
       "      <th>symbol</th>\n",
       "      <th>date</th>\n",
       "      <th>contract</th>\n",
       "      <th>strike</th>\n",
       "      <th>last</th>\n",
       "      <th>bid</th>\n",
       "      <th>ask</th>\n",
       "      <th>volume</th>\n",
       "      <th>iv</th>\n",
       "      <th>in-the-money</th>\n",
       "    </tr>\n",
       "  </thead>\n",
       "  <tbody>\n",
       "    <tr>\n",
       "      <th>32</th>\n",
       "      <td>32</td>\n",
       "      <td>ADBE</td>\n",
       "      <td>2021-03-19</td>\n",
       "      <td>ADBE230120C00490000</td>\n",
       "      <td>490</td>\n",
       "      <td>100.5500</td>\n",
       "      <td>92.5000</td>\n",
       "      <td>490</td>\n",
       "      <td>1</td>\n",
       "      <td>0.3734</td>\n",
       "      <td>False</td>\n",
       "    </tr>\n",
       "    <tr>\n",
       "      <th>33</th>\n",
       "      <td>33</td>\n",
       "      <td>ADBE</td>\n",
       "      <td>2021-03-19</td>\n",
       "      <td>ADBE230120C00495000</td>\n",
       "      <td>495</td>\n",
       "      <td>93.7600</td>\n",
       "      <td>91.7500</td>\n",
       "      <td>495</td>\n",
       "      <td>4</td>\n",
       "      <td>0.3761</td>\n",
       "      <td>False</td>\n",
       "    </tr>\n",
       "    <tr>\n",
       "      <th>34</th>\n",
       "      <td>34</td>\n",
       "      <td>ADBE</td>\n",
       "      <td>2021-03-19</td>\n",
       "      <td>ADBE230120C00500000</td>\n",
       "      <td>500</td>\n",
       "      <td>90.0000</td>\n",
       "      <td>88.0000</td>\n",
       "      <td>500</td>\n",
       "      <td>2</td>\n",
       "      <td>0.3713</td>\n",
       "      <td>False</td>\n",
       "    </tr>\n",
       "    <tr>\n",
       "      <th>35</th>\n",
       "      <td>35</td>\n",
       "      <td>ADBE</td>\n",
       "      <td>2021-03-19</td>\n",
       "      <td>ADBE230120C00505000</td>\n",
       "      <td>505</td>\n",
       "      <td>76.0700</td>\n",
       "      <td>86.0000</td>\n",
       "      <td>505</td>\n",
       "      <td>1</td>\n",
       "      <td>0.3702</td>\n",
       "      <td>False</td>\n",
       "    </tr>\n",
       "    <tr>\n",
       "      <th>36</th>\n",
       "      <td>36</td>\n",
       "      <td>ADBE</td>\n",
       "      <td>2021-03-19</td>\n",
       "      <td>ADBE230120C00510000</td>\n",
       "      <td>510</td>\n",
       "      <td>88.1500</td>\n",
       "      <td>84.2000</td>\n",
       "      <td>510</td>\n",
       "      <td>1</td>\n",
       "      <td>0.3705</td>\n",
       "      <td>False</td>\n",
       "    </tr>\n",
       "    <tr>\n",
       "      <th>37</th>\n",
       "      <td>37</td>\n",
       "      <td>ADBE</td>\n",
       "      <td>2021-03-19</td>\n",
       "      <td>ADBE230120C00515000</td>\n",
       "      <td>515</td>\n",
       "      <td>97.0000</td>\n",
       "      <td>83.7000</td>\n",
       "      <td>515</td>\n",
       "      <td>1</td>\n",
       "      <td>0.3684</td>\n",
       "      <td>False</td>\n",
       "    </tr>\n",
       "    <tr>\n",
       "      <th>38</th>\n",
       "      <td>38</td>\n",
       "      <td>ADBE</td>\n",
       "      <td>2021-03-19</td>\n",
       "      <td>ADBE230120C00520000</td>\n",
       "      <td>520</td>\n",
       "      <td>69.0500</td>\n",
       "      <td>81.5500</td>\n",
       "      <td>520</td>\n",
       "      <td>1</td>\n",
       "      <td>0.3709</td>\n",
       "      <td>False</td>\n",
       "    </tr>\n",
       "    <tr>\n",
       "      <th>39</th>\n",
       "      <td>39</td>\n",
       "      <td>ADBE</td>\n",
       "      <td>2021-03-19</td>\n",
       "      <td>ADBE230120C00525000</td>\n",
       "      <td>525</td>\n",
       "      <td>90.0000</td>\n",
       "      <td>79.2500</td>\n",
       "      <td>525</td>\n",
       "      <td>1</td>\n",
       "      <td>0.3659</td>\n",
       "      <td>False</td>\n",
       "    </tr>\n",
       "    <tr>\n",
       "      <th>40</th>\n",
       "      <td>40</td>\n",
       "      <td>ADBE</td>\n",
       "      <td>2021-03-19</td>\n",
       "      <td>ADBE230120C00530000</td>\n",
       "      <td>530</td>\n",
       "      <td>86.7500</td>\n",
       "      <td>77.6000</td>\n",
       "      <td>530</td>\n",
       "      <td>7</td>\n",
       "      <td>0.3650</td>\n",
       "      <td>False</td>\n",
       "    </tr>\n",
       "    <tr>\n",
       "      <th>41</th>\n",
       "      <td>41</td>\n",
       "      <td>ADBE</td>\n",
       "      <td>2021-03-19</td>\n",
       "      <td>ADBE230120C00540000</td>\n",
       "      <td>540</td>\n",
       "      <td>77.0700</td>\n",
       "      <td>72.4500</td>\n",
       "      <td>540</td>\n",
       "      <td>1</td>\n",
       "      <td>0.3632</td>\n",
       "      <td>False</td>\n",
       "    </tr>\n",
       "    <tr>\n",
       "      <th>42</th>\n",
       "      <td>42</td>\n",
       "      <td>ADBE</td>\n",
       "      <td>2021-03-19</td>\n",
       "      <td>ADBE230120C00550000</td>\n",
       "      <td>550</td>\n",
       "      <td>71.2200</td>\n",
       "      <td>68.9500</td>\n",
       "      <td>550</td>\n",
       "      <td>1</td>\n",
       "      <td>0.3621</td>\n",
       "      <td>False</td>\n",
       "    </tr>\n",
       "    <tr>\n",
       "      <th>43</th>\n",
       "      <td>43</td>\n",
       "      <td>ADBE</td>\n",
       "      <td>2021-03-19</td>\n",
       "      <td>ADBE230120C00560000</td>\n",
       "      <td>560</td>\n",
       "      <td>57.3500</td>\n",
       "      <td>67.0500</td>\n",
       "      <td>560</td>\n",
       "      <td>5</td>\n",
       "      <td>0.3598</td>\n",
       "      <td>False</td>\n",
       "    </tr>\n",
       "    <tr>\n",
       "      <th>44</th>\n",
       "      <td>44</td>\n",
       "      <td>ADBE</td>\n",
       "      <td>2021-03-19</td>\n",
       "      <td>ADBE230120C00570000</td>\n",
       "      <td>570</td>\n",
       "      <td>62.6500</td>\n",
       "      <td>61.3500</td>\n",
       "      <td>570</td>\n",
       "      <td>22</td>\n",
       "      <td>0.3632</td>\n",
       "      <td>False</td>\n",
       "    </tr>\n",
       "    <tr>\n",
       "      <th>45</th>\n",
       "      <td>45</td>\n",
       "      <td>ADBE</td>\n",
       "      <td>2021-03-19</td>\n",
       "      <td>ADBE230120C00580000</td>\n",
       "      <td>580</td>\n",
       "      <td>70.5000</td>\n",
       "      <td>60.4000</td>\n",
       "      <td>580</td>\n",
       "      <td>1</td>\n",
       "      <td>0.3571</td>\n",
       "      <td>False</td>\n",
       "    </tr>\n",
       "    <tr>\n",
       "      <th>46</th>\n",
       "      <td>46</td>\n",
       "      <td>ADBE</td>\n",
       "      <td>2021-03-19</td>\n",
       "      <td>ADBE230120C00590000</td>\n",
       "      <td>590</td>\n",
       "      <td>65.1500</td>\n",
       "      <td>56.7000</td>\n",
       "      <td>590</td>\n",
       "      <td>1</td>\n",
       "      <td>0.3594</td>\n",
       "      <td>False</td>\n",
       "    </tr>\n",
       "    <tr>\n",
       "      <th>47</th>\n",
       "      <td>47</td>\n",
       "      <td>ADBE</td>\n",
       "      <td>2021-03-19</td>\n",
       "      <td>ADBE230120C00600000</td>\n",
       "      <td>600</td>\n",
       "      <td>51.8500</td>\n",
       "      <td>54.2500</td>\n",
       "      <td>600</td>\n",
       "      <td>1</td>\n",
       "      <td>0.3532</td>\n",
       "      <td>False</td>\n",
       "    </tr>\n",
       "    <tr>\n",
       "      <th>48</th>\n",
       "      <td>48</td>\n",
       "      <td>ADBE</td>\n",
       "      <td>2021-03-19</td>\n",
       "      <td>ADBE230120C00610000</td>\n",
       "      <td>610</td>\n",
       "      <td>59.1200</td>\n",
       "      <td>51.9500</td>\n",
       "      <td>610</td>\n",
       "      <td>10</td>\n",
       "      <td>0.3536</td>\n",
       "      <td>False</td>\n",
       "    </tr>\n",
       "    <tr>\n",
       "      <th>49</th>\n",
       "      <td>49</td>\n",
       "      <td>ADBE</td>\n",
       "      <td>2021-03-19</td>\n",
       "      <td>ADBE230120C00620000</td>\n",
       "      <td>620</td>\n",
       "      <td>49.9500</td>\n",
       "      <td>48.4500</td>\n",
       "      <td>620</td>\n",
       "      <td>1</td>\n",
       "      <td>0.3526</td>\n",
       "      <td>False</td>\n",
       "    </tr>\n",
       "    <tr>\n",
       "      <th>50</th>\n",
       "      <td>50</td>\n",
       "      <td>ADBE</td>\n",
       "      <td>2021-03-19</td>\n",
       "      <td>ADBE230120C00630000</td>\n",
       "      <td>630</td>\n",
       "      <td>53.0700</td>\n",
       "      <td>46.8000</td>\n",
       "      <td>630</td>\n",
       "      <td>5</td>\n",
       "      <td>0.3507</td>\n",
       "      <td>False</td>\n",
       "    </tr>\n",
       "    <tr>\n",
       "      <th>51</th>\n",
       "      <td>51</td>\n",
       "      <td>ADBE</td>\n",
       "      <td>2021-03-19</td>\n",
       "      <td>ADBE230120C00640000</td>\n",
       "      <td>640</td>\n",
       "      <td>50.3200</td>\n",
       "      <td>43.9500</td>\n",
       "      <td>640</td>\n",
       "      <td>5</td>\n",
       "      <td>0.3523</td>\n",
       "      <td>False</td>\n",
       "    </tr>\n",
       "    <tr>\n",
       "      <th>52</th>\n",
       "      <td>52</td>\n",
       "      <td>ADBE</td>\n",
       "      <td>2021-03-19</td>\n",
       "      <td>ADBE230120C00660000</td>\n",
       "      <td>660</td>\n",
       "      <td>35.7000</td>\n",
       "      <td>39.1500</td>\n",
       "      <td>660</td>\n",
       "      <td>1</td>\n",
       "      <td>0.3485</td>\n",
       "      <td>False</td>\n",
       "    </tr>\n",
       "    <tr>\n",
       "      <th>53</th>\n",
       "      <td>53</td>\n",
       "      <td>ADBE</td>\n",
       "      <td>2021-03-19</td>\n",
       "      <td>ADBE230120C00680000</td>\n",
       "      <td>680</td>\n",
       "      <td>37.6000</td>\n",
       "      <td>35.1000</td>\n",
       "      <td>680</td>\n",
       "      <td>1</td>\n",
       "      <td>0.3453</td>\n",
       "      <td>False</td>\n",
       "    </tr>\n",
       "    <tr>\n",
       "      <th>54</th>\n",
       "      <td>54</td>\n",
       "      <td>ADBE</td>\n",
       "      <td>2021-03-19</td>\n",
       "      <td>ADBE230120C00700000</td>\n",
       "      <td>700</td>\n",
       "      <td>36.5000</td>\n",
       "      <td>30.7500</td>\n",
       "      <td>700</td>\n",
       "      <td>1</td>\n",
       "      <td>0.3460</td>\n",
       "      <td>False</td>\n",
       "    </tr>\n",
       "    <tr>\n",
       "      <th>55</th>\n",
       "      <td>55</td>\n",
       "      <td>ADBE</td>\n",
       "      <td>2021-03-19</td>\n",
       "      <td>ADBE230120C00720000</td>\n",
       "      <td>720</td>\n",
       "      <td>37.0000</td>\n",
       "      <td>20.5500</td>\n",
       "      <td>720</td>\n",
       "      <td>2</td>\n",
       "      <td>0.3190</td>\n",
       "      <td>False</td>\n",
       "    </tr>\n",
       "    <tr>\n",
       "      <th>56</th>\n",
       "      <td>56</td>\n",
       "      <td>ADBE</td>\n",
       "      <td>2021-03-19</td>\n",
       "      <td>ADBE230120C00740000</td>\n",
       "      <td>740</td>\n",
       "      <td>26.0000</td>\n",
       "      <td>24.1500</td>\n",
       "      <td>740</td>\n",
       "      <td>1</td>\n",
       "      <td>0.3443</td>\n",
       "      <td>False</td>\n",
       "    </tr>\n",
       "    <tr>\n",
       "      <th>57</th>\n",
       "      <td>57</td>\n",
       "      <td>ADBE</td>\n",
       "      <td>2021-03-19</td>\n",
       "      <td>ADBE230120C00760000</td>\n",
       "      <td>760</td>\n",
       "      <td>22.0000</td>\n",
       "      <td>21.2000</td>\n",
       "      <td>760</td>\n",
       "      <td>15</td>\n",
       "      <td>0.3393</td>\n",
       "      <td>False</td>\n",
       "    </tr>\n",
       "  </tbody>\n",
       "</table>\n",
       "</div>"
      ],
      "text/plain": [
       "    Unnamed: 0 symbol        date             contract  strike     last  \\\n",
       "32          32   ADBE  2021-03-19  ADBE230120C00490000     490 100.5500   \n",
       "33          33   ADBE  2021-03-19  ADBE230120C00495000     495  93.7600   \n",
       "34          34   ADBE  2021-03-19  ADBE230120C00500000     500  90.0000   \n",
       "35          35   ADBE  2021-03-19  ADBE230120C00505000     505  76.0700   \n",
       "36          36   ADBE  2021-03-19  ADBE230120C00510000     510  88.1500   \n",
       "37          37   ADBE  2021-03-19  ADBE230120C00515000     515  97.0000   \n",
       "38          38   ADBE  2021-03-19  ADBE230120C00520000     520  69.0500   \n",
       "39          39   ADBE  2021-03-19  ADBE230120C00525000     525  90.0000   \n",
       "40          40   ADBE  2021-03-19  ADBE230120C00530000     530  86.7500   \n",
       "41          41   ADBE  2021-03-19  ADBE230120C00540000     540  77.0700   \n",
       "42          42   ADBE  2021-03-19  ADBE230120C00550000     550  71.2200   \n",
       "43          43   ADBE  2021-03-19  ADBE230120C00560000     560  57.3500   \n",
       "44          44   ADBE  2021-03-19  ADBE230120C00570000     570  62.6500   \n",
       "45          45   ADBE  2021-03-19  ADBE230120C00580000     580  70.5000   \n",
       "46          46   ADBE  2021-03-19  ADBE230120C00590000     590  65.1500   \n",
       "47          47   ADBE  2021-03-19  ADBE230120C00600000     600  51.8500   \n",
       "48          48   ADBE  2021-03-19  ADBE230120C00610000     610  59.1200   \n",
       "49          49   ADBE  2021-03-19  ADBE230120C00620000     620  49.9500   \n",
       "50          50   ADBE  2021-03-19  ADBE230120C00630000     630  53.0700   \n",
       "51          51   ADBE  2021-03-19  ADBE230120C00640000     640  50.3200   \n",
       "52          52   ADBE  2021-03-19  ADBE230120C00660000     660  35.7000   \n",
       "53          53   ADBE  2021-03-19  ADBE230120C00680000     680  37.6000   \n",
       "54          54   ADBE  2021-03-19  ADBE230120C00700000     700  36.5000   \n",
       "55          55   ADBE  2021-03-19  ADBE230120C00720000     720  37.0000   \n",
       "56          56   ADBE  2021-03-19  ADBE230120C00740000     740  26.0000   \n",
       "57          57   ADBE  2021-03-19  ADBE230120C00760000     760  22.0000   \n",
       "\n",
       "       bid  ask  volume     iv  in-the-money  \n",
       "32 92.5000  490       1 0.3734         False  \n",
       "33 91.7500  495       4 0.3761         False  \n",
       "34 88.0000  500       2 0.3713         False  \n",
       "35 86.0000  505       1 0.3702         False  \n",
       "36 84.2000  510       1 0.3705         False  \n",
       "37 83.7000  515       1 0.3684         False  \n",
       "38 81.5500  520       1 0.3709         False  \n",
       "39 79.2500  525       1 0.3659         False  \n",
       "40 77.6000  530       7 0.3650         False  \n",
       "41 72.4500  540       1 0.3632         False  \n",
       "42 68.9500  550       1 0.3621         False  \n",
       "43 67.0500  560       5 0.3598         False  \n",
       "44 61.3500  570      22 0.3632         False  \n",
       "45 60.4000  580       1 0.3571         False  \n",
       "46 56.7000  590       1 0.3594         False  \n",
       "47 54.2500  600       1 0.3532         False  \n",
       "48 51.9500  610      10 0.3536         False  \n",
       "49 48.4500  620       1 0.3526         False  \n",
       "50 46.8000  630       5 0.3507         False  \n",
       "51 43.9500  640       5 0.3523         False  \n",
       "52 39.1500  660       1 0.3485         False  \n",
       "53 35.1000  680       1 0.3453         False  \n",
       "54 30.7500  700       1 0.3460         False  \n",
       "55 20.5500  720       2 0.3190         False  \n",
       "56 24.1500  740       1 0.3443         False  \n",
       "57 21.2000  760      15 0.3393         False  "
      ]
     },
     "execution_count": 88,
     "metadata": {},
     "output_type": "execute_result"
    }
   ],
   "source": [
    "adbe_calls[adbe_calls[\"in-the-money\"]==False]"
   ]
  },
  {
   "cell_type": "code",
   "execution_count": null,
   "metadata": {},
   "outputs": [],
   "source": []
  }
 ],
 "metadata": {
  "kernelspec": {
   "display_name": "Python 3",
   "language": "python",
   "name": "python3"
  },
  "language_info": {
   "codemirror_mode": {
    "name": "ipython",
    "version": 3
   },
   "file_extension": ".py",
   "mimetype": "text/x-python",
   "name": "python",
   "nbconvert_exporter": "python",
   "pygments_lexer": "ipython3",
   "version": "3.6.12"
  }
 },
 "nbformat": 4,
 "nbformat_minor": 5
}
