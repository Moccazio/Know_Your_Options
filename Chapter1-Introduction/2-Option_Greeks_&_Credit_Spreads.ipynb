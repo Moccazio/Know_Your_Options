{
 "cells": [
  {
   "cell_type": "markdown",
   "metadata": {},
   "source": [
    "# Option Greeks & Credit Spreads"
   ]
  },
  {
   "cell_type": "markdown",
   "metadata": {},
   "source": [
    "### The Greeks\n",
    "\n",
    "The greeks are the partial-derivatives of the Black-Scholes equation with respect to each variable.\n",
    "\n",
    "**Delta** — Δ — first partial-derivative with respect to the underlying asset\n",
    "    \n",
    "**Gamma** — 𝛾 — 2nd partial-derivative with respect to the underlying asset\n",
    "    \n",
    "**Vega** — 𝑣 — partial-derivative with respect to volatility\n",
    "\n",
    "**Theta** — 𝜃 — partial-derivative with respect to time until expiration\n",
    "\n",
    "**Rho** — 𝜌 — partial derivative with respect to the given interest rate"
   ]
  },
  {
   "cell_type": "markdown",
   "metadata": {},
   "source": [
    "### Credit Spread Ratios"
   ]
  },
  {
   "cell_type": "markdown",
   "metadata": {},
   "source": [
    "$$Risk Ratio = \\frac{Net \\Theta} {\\sqrt{Net \\Delta^2 + Net \\Gamma^2}}$$"
   ]
  },
  {
   "cell_type": "markdown",
   "metadata": {},
   "source": [
    "$$Cost Ratio = \\frac{Net Credit}{Share Cost + Margin Required}$$"
   ]
  }
 ],
 "metadata": {
  "kernelspec": {
   "display_name": "Python 3",
   "language": "python",
   "name": "python3"
  },
  "language_info": {
   "codemirror_mode": {
    "name": "ipython",
    "version": 3
   },
   "file_extension": ".py",
   "mimetype": "text/x-python",
   "name": "python",
   "nbconvert_exporter": "python",
   "pygments_lexer": "ipython3",
   "version": "3.6.12"
  }
 },
 "nbformat": 4,
 "nbformat_minor": 5
}
