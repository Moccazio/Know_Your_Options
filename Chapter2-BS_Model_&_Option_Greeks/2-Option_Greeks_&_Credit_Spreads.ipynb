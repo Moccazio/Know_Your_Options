{
 "cells": [
  {
   "cell_type": "markdown",
   "metadata": {},
   "source": [
    "# Option Greeks & Credit Spreads"
   ]
  },
  {
   "cell_type": "markdown",
   "metadata": {},
   "source": [
    "### The Greeks\n",
    "\n",
    "The greeks are the partial-derivatives of the Black-Scholes equation with respect to each variable.\n",
    "\n",
    "**Delta** — Δ — first partial-derivative with respect to the underlying asset\n",
    "    \n",
    "**Gamma** — 𝛾 — 2nd partial-derivative with respect to the underlying asset\n",
    "    \n",
    "**Vega** — 𝑣 — partial-derivative with respect to volatility\n",
    "\n",
    "**Theta** — 𝜃 — partial-derivative with respect to time until expiration\n",
    "\n",
    "**Rho** — 𝜌 — partial derivative with respect to the given interest rate"
   ]
  },
  {
   "cell_type": "markdown",
   "metadata": {},
   "source": [
    "Sigma $\\sigma$: The implied volatility is a measure the estimate of how much the price could change. A high number means that traders believe the option could make a large change. Basically, just a volatility index.\n",
    "Delta: The $\\delta$ measures how much the option price would change in relation to the underlying stock price. A delta of 0.5 means the option would change 50 cents for every 1 dollar the stock moves. $\\delta$ is the first derivative of the price.\n",
    "Gamma: The $\\gamma$ measures how fast the Delta will change when the stock price changes. A high number means this is a very explosive option, and could gain or loss value quickly. This is the second derivative of the price.\n",
    "Theta: The $\\theta$ measures how fast the option is losing value per day due to time decay. As the expiration day arrives, the theta increases.\n",
    "Vega: The vega (a measure of how sensitive the option price is to a change in the implied volatility. Options that are way out of the money, or have a long time until expiration are more sensitive to a change in implied volatility)"
   ]
  },
  {
   "cell_type": "markdown",
   "metadata": {},
   "source": [
    "### Credit Spread Ratios"
   ]
  },
  {
   "cell_type": "markdown",
   "metadata": {},
   "source": [
    "$$Risk Ratio = \\frac{Net \\Theta} {\\sqrt{Net \\Delta^2 + Net \\Gamma^2}}$$"
   ]
  },
  {
   "cell_type": "markdown",
   "metadata": {},
   "source": [
    "$$Cost Ratio = \\frac{Net Credit}{Share Cost + Margin Required}$$"
   ]
  }
 ],
 "metadata": {
  "kernelspec": {
   "display_name": "Python 3",
   "language": "python",
   "name": "python3"
  },
  "language_info": {
   "codemirror_mode": {
    "name": "ipython",
    "version": 3
   },
   "file_extension": ".py",
   "mimetype": "text/x-python",
   "name": "python",
   "nbconvert_exporter": "python",
   "pygments_lexer": "ipython3",
   "version": "3.6.12"
  }
 },
 "nbformat": 4,
 "nbformat_minor": 5
}
